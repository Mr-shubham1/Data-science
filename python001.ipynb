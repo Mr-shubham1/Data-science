{
  "nbformat": 4,
  "nbformat_minor": 0,
  "metadata": {
    "colab": {
      "provenance": [],
      "authorship_tag": "ABX9TyOltVxf67xI6DW5TiO+ZsHP",
      "include_colab_link": true
    },
    "kernelspec": {
      "name": "python3",
      "display_name": "Python 3"
    },
    "language_info": {
      "name": "python"
    }
  },
  "cells": [
    {
      "cell_type": "markdown",
      "metadata": {
        "id": "view-in-github",
        "colab_type": "text"
      },
      "source": [
        "<a href=\"https://colab.research.google.com/github/Mr-shubham1/Data-science/blob/main/python001.ipynb\" target=\"_parent\"><img src=\"https://colab.research.google.com/assets/colab-badge.svg\" alt=\"Open In Colab\"/></a>"
      ]
    },
    {
      "cell_type": "markdown",
      "source": [
        "print() function -> display output to screen"
      ],
      "metadata": {
        "id": "jQsL1ZJiQIfo"
      }
    },
    {
      "cell_type": "code",
      "execution_count": null,
      "metadata": {
        "colab": {
          "base_uri": "https://localhost:8080/"
        },
        "id": "DSuAM6_uNI-t",
        "outputId": "c1477ecb-38d2-4861-9f07-012ce187a3cb"
      },
      "outputs": [
        {
          "output_type": "stream",
          "name": "stdout",
          "text": [
            "hello world!\n"
          ]
        }
      ],
      "source": [
        "print(\"hello world!\")"
      ]
    },
    {
      "cell_type": "code",
      "source": [
        "print(\"hello\")\n",
        "print(\"world!\")"
      ],
      "metadata": {
        "colab": {
          "base_uri": "https://localhost:8080/"
        },
        "id": "fbEpk2rGQ0lR",
        "outputId": "39291589-173d-414c-8843-4dee24162068"
      },
      "execution_count": null,
      "outputs": [
        {
          "output_type": "stream",
          "name": "stdout",
          "text": [
            "hello\n",
            "world!\n"
          ]
        }
      ]
    },
    {
      "cell_type": "markdown",
      "source": [
        "by default 'end' parameter of print function is   new line"
      ],
      "metadata": {
        "id": "jo3waPzSSAoz"
      }
    },
    {
      "cell_type": "code",
      "source": [
        "print(\"hello\" , end = \" \")\n",
        "print(\"world\")"
      ],
      "metadata": {
        "colab": {
          "base_uri": "https://localhost:8080/"
        },
        "id": "aCOciydWRo7i",
        "outputId": "1effde54-2eef-413d-aff5-dbaed91024f7"
      },
      "execution_count": null,
      "outputs": [
        {
          "output_type": "stream",
          "name": "stdout",
          "text": [
            "hello world\n"
          ]
        }
      ]
    },
    {
      "cell_type": "code",
      "source": [
        "print(\"python-programming\")"
      ],
      "metadata": {
        "colab": {
          "base_uri": "https://localhost:8080/"
        },
        "id": "QlwQRSeIRv6L",
        "outputId": "6ccae5b6-2417-4b36-f863-2e24a1091739"
      },
      "execution_count": null,
      "outputs": [
        {
          "output_type": "stream",
          "name": "stdout",
          "text": [
            "python-programming\n"
          ]
        }
      ]
    },
    {
      "cell_type": "code",
      "source": [
        "print(\"python\", end = \"-\")\n",
        "print(\"programming\")"
      ],
      "metadata": {
        "colab": {
          "base_uri": "https://localhost:8080/"
        },
        "id": "BK5Mee9RSXY4",
        "outputId": "aebf4d5c-57a7-4595-951d-e2691f356014"
      },
      "execution_count": null,
      "outputs": [
        {
          "output_type": "stream",
          "name": "stdout",
          "text": [
            "python-programming\n"
          ]
        }
      ]
    },
    {
      "cell_type": "markdown",
      "source": [
        "learning sep parameter    of print function"
      ],
      "metadata": {
        "id": "aDyyKyqDTLNH"
      }
    },
    {
      "cell_type": "code",
      "source": [
        "print(\"apple\",\"banana\",\"orange\")"
      ],
      "metadata": {
        "colab": {
          "base_uri": "https://localhost:8080/"
        },
        "id": "5ND6E0fRSh6F",
        "outputId": "8f43bc60-cdf4-4a5f-d770-2fdfb3c1f2b4"
      },
      "execution_count": null,
      "outputs": [
        {
          "output_type": "stream",
          "name": "stdout",
          "text": [
            "apple banana orange\n"
          ]
        }
      ]
    },
    {
      "cell_type": "code",
      "source": [
        "print(\"apple\",\"banana\",\"orange\", sep = \",\")"
      ],
      "metadata": {
        "colab": {
          "base_uri": "https://localhost:8080/"
        },
        "id": "CrNiyZnCTGIf",
        "outputId": "0c731a8a-1286-4328-8b2d-f9c4027caf6a"
      },
      "execution_count": null,
      "outputs": [
        {
          "output_type": "stream",
          "name": "stdout",
          "text": [
            "apple,banana,orange\n"
          ]
        }
      ]
    },
    {
      "cell_type": "markdown",
      "source": [
        "Input function"
      ],
      "metadata": {
        "id": "ndjXWDc7ZwMI"
      }
    },
    {
      "cell_type": "code",
      "source": [
        "user_input = input(\"enter your name: \")\n",
        "print(\"hey, my name is \" + user_input)"
      ],
      "metadata": {
        "colab": {
          "base_uri": "https://localhost:8080/"
        },
        "id": "vMdAlWUpTVQp",
        "outputId": "5b7eb29b-4f43-4d17-b919-fd4379b7d176"
      },
      "execution_count": null,
      "outputs": [
        {
          "output_type": "stream",
          "name": "stdout",
          "text": [
            "enter your name: priya bhatiya\n",
            "hey, my name is priya bhatiya\n"
          ]
        }
      ]
    },
    {
      "cell_type": "code",
      "source": [
        "user_input = \"riya bhatiya\"\n",
        "print(user_input)"
      ],
      "metadata": {
        "colab": {
          "base_uri": "https://localhost:8080/"
        },
        "id": "7fIY4OV5aLZO",
        "outputId": "211175ed-56b9-4e01-c01e-4b7e2b580191"
      },
      "execution_count": null,
      "outputs": [
        {
          "output_type": "stream",
          "name": "stdout",
          "text": [
            "riya bhatiya\n"
          ]
        }
      ]
    },
    {
      "cell_type": "markdown",
      "source": [
        "comments"
      ],
      "metadata": {
        "id": "_1aOkdxyciG5"
      }
    },
    {
      "cell_type": "code",
      "source": [
        "# this is single line comment\n",
        "print(\"single line\")"
      ],
      "metadata": {
        "colab": {
          "base_uri": "https://localhost:8080/"
        },
        "id": "6aa_Z2-KbzlX",
        "outputId": "ae94e5bf-fe90-4d33-f9a0-124d023922d9"
      },
      "execution_count": null,
      "outputs": [
        {
          "output_type": "stream",
          "name": "stdout",
          "text": [
            "single line\n"
          ]
        }
      ]
    },
    {
      "cell_type": "code",
      "source": [
        "'''\n",
        "this is multi line comment\n",
        "'''\n",
        "print(\"multi line\")"
      ],
      "metadata": {
        "colab": {
          "base_uri": "https://localhost:8080/"
        },
        "id": "-Z3kMViIebCS",
        "outputId": "8cf1b48f-1cf5-4397-f3b6-cc324f444f52"
      },
      "execution_count": null,
      "outputs": [
        {
          "output_type": "stream",
          "name": "stdout",
          "text": [
            "multi line\n"
          ]
        }
      ]
    },
    {
      "cell_type": "markdown",
      "source": [
        "Indentation"
      ],
      "metadata": {
        "id": "ppcyvWQTenIs"
      }
    },
    {
      "cell_type": "code",
      "source": [
        "x = 5\n",
        "if x > 3:\n",
        "  print(x ,\"is greater than 3\")"
      ],
      "metadata": {
        "colab": {
          "base_uri": "https://localhost:8080/"
        },
        "id": "6CZCP1M7ejlN",
        "outputId": "c1d5875f-a931-4363-a96a-9ab767c41b22"
      },
      "execution_count": null,
      "outputs": [
        {
          "output_type": "stream",
          "name": "stdout",
          "text": [
            "5 is greater than 3\n"
          ]
        }
      ]
    },
    {
      "cell_type": "code",
      "source": [
        "x,y,z = 10,20,30\n",
        "print(x,y,z,sep = \",\")"
      ],
      "metadata": {
        "id": "bQypphv1fOQM",
        "colab": {
          "base_uri": "https://localhost:8080/"
        },
        "outputId": "730daf01-bca7-4e03-fcf3-0c7572f43cdd"
      },
      "execution_count": 1,
      "outputs": [
        {
          "output_type": "stream",
          "name": "stdout",
          "text": [
            "10,20,30\n"
          ]
        }
      ]
    },
    {
      "cell_type": "code",
      "source": [
        "x=y=z = \"hello\"\n",
        "print(x)"
      ],
      "metadata": {
        "colab": {
          "base_uri": "https://localhost:8080/"
        },
        "id": "I_9y9TonzPR_",
        "outputId": "780390c2-ea79-4694-f102-e1b408a19775"
      },
      "execution_count": 2,
      "outputs": [
        {
          "output_type": "stream",
          "name": "stdout",
          "text": [
            "hello\n"
          ]
        }
      ]
    },
    {
      "cell_type": "markdown",
      "source": [
        "Data type -> nature of data that any variabe can hold"
      ],
      "metadata": {
        "id": "oO08Gr6b0LTJ"
      }
    },
    {
      "cell_type": "markdown",
      "source": [
        "Numbers"
      ],
      "metadata": {
        "id": "1sojRKZR0oEH"
      }
    },
    {
      "cell_type": "code",
      "source": [
        "x = 10\n",
        "y = 3.14\n",
        "z = 2 + 3j"
      ],
      "metadata": {
        "id": "i6ew-l0cza3E"
      },
      "execution_count": 3,
      "outputs": []
    },
    {
      "cell_type": "code",
      "source": [
        "print(type(x))\n",
        "print(type(y))\n",
        "print(type(z))"
      ],
      "metadata": {
        "colab": {
          "base_uri": "https://localhost:8080/"
        },
        "id": "swtP1K4-0vRd",
        "outputId": "4d4f94bc-1e05-4047-9abb-ed4efb25c0d0"
      },
      "execution_count": 5,
      "outputs": [
        {
          "output_type": "stream",
          "name": "stdout",
          "text": [
            "<class 'int'>\n",
            "<class 'float'>\n",
            "<class 'complex'>\n"
          ]
        }
      ]
    },
    {
      "cell_type": "code",
      "source": [
        "z.real"
      ],
      "metadata": {
        "colab": {
          "base_uri": "https://localhost:8080/"
        },
        "id": "K4taGnMk0z1Z",
        "outputId": "78d7abf7-336c-487b-96d6-473a3d0b57a9"
      },
      "execution_count": 6,
      "outputs": [
        {
          "output_type": "execute_result",
          "data": {
            "text/plain": [
              "2.0"
            ]
          },
          "metadata": {},
          "execution_count": 6
        }
      ]
    },
    {
      "cell_type": "code",
      "source": [
        "z.imag"
      ],
      "metadata": {
        "colab": {
          "base_uri": "https://localhost:8080/"
        },
        "id": "T2jJl2wS1Wwx",
        "outputId": "b500329d-5728-4d07-d633-04481681f9e2"
      },
      "execution_count": 8,
      "outputs": [
        {
          "output_type": "execute_result",
          "data": {
            "text/plain": [
              "3.0"
            ]
          },
          "metadata": {},
          "execution_count": 8
        }
      ]
    },
    {
      "cell_type": "markdown",
      "source": [
        "string -> sequence of characters enclosed within a single or double quotes"
      ],
      "metadata": {
        "id": "vfNNNN_32JoO"
      }
    },
    {
      "cell_type": "code",
      "source": [
        "name = \"john\"\n",
        "type(name)"
      ],
      "metadata": {
        "colab": {
          "base_uri": "https://localhost:8080/"
        },
        "id": "OMLOcn5f2VK4",
        "outputId": "8eb73c31-e79b-4fbb-dca5-92cb994c4d70"
      },
      "execution_count": 9,
      "outputs": [
        {
          "output_type": "execute_result",
          "data": {
            "text/plain": [
              "str"
            ]
          },
          "metadata": {},
          "execution_count": 9
        }
      ]
    },
    {
      "cell_type": "code",
      "source": [],
      "metadata": {
        "id": "BMXjiPze1YQN"
      },
      "execution_count": null,
      "outputs": []
    }
  ]
}