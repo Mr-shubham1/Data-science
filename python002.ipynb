{
  "nbformat": 4,
  "nbformat_minor": 0,
  "metadata": {
    "colab": {
      "provenance": [],
      "authorship_tag": "ABX9TyOcffVb+J83eU72RsEYxfu9",
      "include_colab_link": true
    },
    "kernelspec": {
      "name": "python3",
      "display_name": "Python 3"
    },
    "language_info": {
      "name": "python"
    }
  },
  "cells": [
    {
      "cell_type": "markdown",
      "metadata": {
        "id": "view-in-github",
        "colab_type": "text"
      },
      "source": [
        "<a href=\"https://colab.research.google.com/github/Mr-shubham1/Data-science/blob/main/python002.ipynb\" target=\"_parent\"><img src=\"https://colab.research.google.com/assets/colab-badge.svg\" alt=\"Open In Colab\"/></a>"
      ]
    },
    {
      "cell_type": "markdown",
      "source": [
        "Operators -> there are mainly 7 operators in python"
      ],
      "metadata": {
        "id": "JI2IkcnaMm-M"
      }
    },
    {
      "cell_type": "markdown",
      "source": [
        "arithmetic operator"
      ],
      "metadata": {
        "id": "Xady750lM6qB"
      }
    },
    {
      "cell_type": "code",
      "execution_count": null,
      "metadata": {
        "colab": {
          "base_uri": "https://localhost:8080/"
        },
        "id": "Q2A8k8td7nsh",
        "outputId": "d1c969ad-0a3f-437a-f83d-baa617aa1013"
      },
      "outputs": [
        {
          "output_type": "stream",
          "name": "stdout",
          "text": [
            "13\n",
            "7\n",
            "30\n",
            "3.3333333333333335\n",
            "3\n",
            "1000\n",
            "1\n"
          ]
        }
      ],
      "source": [
        "x = 10\n",
        "y = 3\n",
        "print(x+y) # addition operator\n",
        "print(x-y) # subctraction operator\n",
        "print(x*y) # multiplication operator\n",
        "print(x/y) # division operator\n",
        "print(x//y) # floor division operator\n",
        "print(x**y) # exponential operator\n",
        "print(x%y) # modulus operator"
      ]
    },
    {
      "cell_type": "markdown",
      "source": [
        "comparision operator"
      ],
      "metadata": {
        "id": "uSBP9ZgaYDmu"
      }
    },
    {
      "cell_type": "code",
      "source": [
        "x = 5\n",
        "y = 10\n",
        "print(x == y)\n",
        "print(x != y)\n",
        "print(x > y)\n",
        "print(x < y)\n",
        "print(x>=y)\n",
        "print(x<=y)"
      ],
      "metadata": {
        "colab": {
          "base_uri": "https://localhost:8080/"
        },
        "id": "x-iOWAJcNf3s",
        "outputId": "3f68b9f4-72ee-418a-ab2b-530cfe6438e5"
      },
      "execution_count": null,
      "outputs": [
        {
          "output_type": "stream",
          "name": "stdout",
          "text": [
            "False\n",
            "True\n",
            "False\n",
            "True\n",
            "False\n",
            "True\n"
          ]
        }
      ]
    },
    {
      "cell_type": "markdown",
      "source": [
        "logical operator"
      ],
      "metadata": {
        "id": "Y7biukOgiPKl"
      }
    },
    {
      "cell_type": "code",
      "source": [
        "x = 5\n",
        "y = 10\n",
        "z = 15\n",
        "print(x<y and y<z)\n",
        "print(x<y or y>z)\n",
        "print(not(x>y))"
      ],
      "metadata": {
        "colab": {
          "base_uri": "https://localhost:8080/"
        },
        "id": "IFSdimC1YXLf",
        "outputId": "abb9ad52-eb9f-4aa2-ca8b-5df0314a7c70"
      },
      "execution_count": null,
      "outputs": [
        {
          "output_type": "stream",
          "name": "stdout",
          "text": [
            "True\n",
            "True\n",
            "True\n"
          ]
        }
      ]
    },
    {
      "cell_type": "markdown",
      "source": [
        "Bitwise operator"
      ],
      "metadata": {
        "id": "LQlNfob0itp7"
      }
    },
    {
      "cell_type": "markdown",
      "source": [
        "&         |         ^      >>      <<"
      ],
      "metadata": {
        "id": "CTi_NM0tltpo"
      }
    },
    {
      "cell_type": "markdown",
      "source": [
        "Assignment oerators -> x += y     ----->  x = x + y"
      ],
      "metadata": {
        "id": "vRgrdIp_oMIs"
      }
    },
    {
      "cell_type": "markdown",
      "source": [
        "Membership operators  'in'   'not in'"
      ],
      "metadata": {
        "id": "KISGtS8Pogrh"
      }
    },
    {
      "cell_type": "code",
      "source": [
        "print('a' in \"priya\")"
      ],
      "metadata": {
        "colab": {
          "base_uri": "https://localhost:8080/"
        },
        "id": "mgI0-5gFilSD",
        "outputId": "b33b4176-75b9-407d-bbe0-94dcd3a09b93"
      },
      "execution_count": null,
      "outputs": [
        {
          "output_type": "stream",
          "name": "stdout",
          "text": [
            "True\n"
          ]
        }
      ]
    },
    {
      "cell_type": "code",
      "source": [
        "print('a' not in \"priya\")"
      ],
      "metadata": {
        "colab": {
          "base_uri": "https://localhost:8080/"
        },
        "id": "-FpN9XSZp0qg",
        "outputId": "b721f146-2167-43dc-c4d9-79d7b25a785e"
      },
      "execution_count": null,
      "outputs": [
        {
          "output_type": "stream",
          "name": "stdout",
          "text": [
            "False\n"
          ]
        }
      ]
    },
    {
      "cell_type": "markdown",
      "source": [
        "Identity operator   --->  is   ,  is not"
      ],
      "metadata": {
        "id": "ivPRxboSqI1x"
      }
    },
    {
      "cell_type": "code",
      "source": [
        "x = 10\n",
        "y = 10\n",
        "\n",
        "print(x is y)\n",
        "print(x is not y)"
      ],
      "metadata": {
        "colab": {
          "base_uri": "https://localhost:8080/"
        },
        "id": "qg_RgXSMp6mF",
        "outputId": "1a5c6e48-5881-4995-8f35-1485bd54efb7"
      },
      "execution_count": null,
      "outputs": [
        {
          "output_type": "stream",
          "name": "stdout",
          "text": [
            "True\n",
            "False\n"
          ]
        }
      ]
    },
    {
      "cell_type": "code",
      "source": [
        "print(id(x))\n",
        "print(id(y))"
      ],
      "metadata": {
        "colab": {
          "base_uri": "https://localhost:8080/"
        },
        "id": "DHTU7fWHZVU4",
        "outputId": "d1ad5ec9-be23-496a-88b0-683fd3bfacbf"
      },
      "execution_count": null,
      "outputs": [
        {
          "output_type": "stream",
          "name": "stdout",
          "text": [
            "10751144\n",
            "10751144\n"
          ]
        }
      ]
    },
    {
      "cell_type": "markdown",
      "source": [
        "string"
      ],
      "metadata": {
        "id": "D3eD_9VxbedD"
      }
    },
    {
      "cell_type": "code",
      "source": [
        "name = \"priya\"\n",
        "type(name)"
      ],
      "metadata": {
        "colab": {
          "base_uri": "https://localhost:8080/"
        },
        "id": "SfSxLIZVZjdS",
        "outputId": "e764b616-99f5-47e0-e1a7-38e8d4e48209"
      },
      "execution_count": null,
      "outputs": [
        {
          "output_type": "execute_result",
          "data": {
            "text/plain": [
              "str"
            ]
          },
          "metadata": {},
          "execution_count": 4
        }
      ]
    },
    {
      "cell_type": "code",
      "source": [
        "string1 = \"hello, world!\"\n",
        "second_char = string1[1];\n",
        "last_char = string1[-1];\n",
        "print(second_char)\n",
        "print(last_char)"
      ],
      "metadata": {
        "colab": {
          "base_uri": "https://localhost:8080/"
        },
        "id": "L7RyOUNrbk8F",
        "outputId": "6b63df5e-fa4a-4618-e104-f01e84f0c780"
      },
      "execution_count": null,
      "outputs": [
        {
          "output_type": "stream",
          "name": "stdout",
          "text": [
            "e\n",
            "!\n"
          ]
        }
      ]
    },
    {
      "cell_type": "code",
      "source": [
        "print(len(string1))"
      ],
      "metadata": {
        "colab": {
          "base_uri": "https://localhost:8080/"
        },
        "id": "7BnDCkXOb7pb",
        "outputId": "2acc9b1b-66e4-49a0-ec60-b55afc359ed7"
      },
      "execution_count": null,
      "outputs": [
        {
          "output_type": "stream",
          "name": "stdout",
          "text": [
            "13\n"
          ]
        }
      ]
    },
    {
      "cell_type": "markdown",
      "source": [
        "Slicing operations  string1[start:end:jump_size]"
      ],
      "metadata": {
        "id": "4wH1zu5ecFhn"
      }
    },
    {
      "cell_type": "code",
      "source": [
        "print(string1[1:13:1])"
      ],
      "metadata": {
        "colab": {
          "base_uri": "https://localhost:8080/"
        },
        "id": "-NmmoHVxcCPy",
        "outputId": "d5f25593-2b11-454b-c0a0-7df0de24d4bd"
      },
      "execution_count": null,
      "outputs": [
        {
          "output_type": "stream",
          "name": "stdout",
          "text": [
            "ello, world!\n"
          ]
        }
      ]
    },
    {
      "cell_type": "code",
      "source": [
        "print(string1[1:4])"
      ],
      "metadata": {
        "colab": {
          "base_uri": "https://localhost:8080/"
        },
        "id": "bMGXjo7YcyK4",
        "outputId": "becabc11-4d0e-4059-be0a-21aaa09b1db3"
      },
      "execution_count": null,
      "outputs": [
        {
          "output_type": "stream",
          "name": "stdout",
          "text": [
            "ell\n"
          ]
        }
      ]
    },
    {
      "cell_type": "code",
      "source": [
        "print(string1[1:8:2])"
      ],
      "metadata": {
        "colab": {
          "base_uri": "https://localhost:8080/"
        },
        "id": "JN4LmBm7eJ3V",
        "outputId": "40e14539-0e97-4e21-803c-c82f122dc79f"
      },
      "execution_count": null,
      "outputs": [
        {
          "output_type": "stream",
          "name": "stdout",
          "text": [
            "el,w\n"
          ]
        }
      ]
    },
    {
      "cell_type": "code",
      "source": [
        "print(string1[:5])"
      ],
      "metadata": {
        "colab": {
          "base_uri": "https://localhost:8080/"
        },
        "id": "Ej_fZhqveQLl",
        "outputId": "15210ac5-03ab-42ea-831a-e51b58475357"
      },
      "execution_count": null,
      "outputs": [
        {
          "output_type": "stream",
          "name": "stdout",
          "text": [
            "hello\n"
          ]
        }
      ]
    },
    {
      "cell_type": "code",
      "source": [
        "print(string1[7:])"
      ],
      "metadata": {
        "colab": {
          "base_uri": "https://localhost:8080/"
        },
        "id": "sp2cpSsoeT9i",
        "outputId": "ad637636-4dc8-4cd8-a2ae-908437887112"
      },
      "execution_count": null,
      "outputs": [
        {
          "output_type": "stream",
          "name": "stdout",
          "text": [
            "world!\n"
          ]
        }
      ]
    },
    {
      "cell_type": "code",
      "source": [
        "print(string1[: :])"
      ],
      "metadata": {
        "colab": {
          "base_uri": "https://localhost:8080/"
        },
        "id": "ZZjKzGjTeV16",
        "outputId": "6aea0134-f775-4f43-be3f-b00a16031dcc"
      },
      "execution_count": null,
      "outputs": [
        {
          "output_type": "stream",
          "name": "stdout",
          "text": [
            "hello, world!\n"
          ]
        }
      ]
    },
    {
      "cell_type": "code",
      "source": [
        "print(string1[: :2])"
      ],
      "metadata": {
        "colab": {
          "base_uri": "https://localhost:8080/"
        },
        "id": "SstswZBhecie",
        "outputId": "5fe57d81-6e93-49f1-96eb-1d350d169b44"
      },
      "execution_count": null,
      "outputs": [
        {
          "output_type": "stream",
          "name": "stdout",
          "text": [
            "hlo ol!\n"
          ]
        }
      ]
    },
    {
      "cell_type": "markdown",
      "source": [
        "string in python is immutable -? once a string is created , it can't be changed"
      ],
      "metadata": {
        "id": "oqzagumMfAVE"
      }
    },
    {
      "cell_type": "code",
      "source": [
        "string1[2]"
      ],
      "metadata": {
        "colab": {
          "base_uri": "https://localhost:8080/",
          "height": 36
        },
        "id": "ULNa3ww5ehjv",
        "outputId": "b01888e7-630e-48d7-8f9c-7981c7d28111"
      },
      "execution_count": null,
      "outputs": [
        {
          "output_type": "execute_result",
          "data": {
            "text/plain": [
              "'l'"
            ],
            "application/vnd.google.colaboratory.intrinsic+json": {
              "type": "string"
            }
          },
          "metadata": {},
          "execution_count": 18
        }
      ]
    },
    {
      "cell_type": "code",
      "source": [
        "string1[2] = h"
      ],
      "metadata": {
        "colab": {
          "base_uri": "https://localhost:8080/",
          "height": 141
        },
        "id": "jHG7TXU6fHmx",
        "outputId": "128618e8-75d4-49fb-c652-f69e0f649f0f"
      },
      "execution_count": null,
      "outputs": [
        {
          "output_type": "error",
          "ename": "NameError",
          "evalue": "name 'h' is not defined",
          "traceback": [
            "\u001b[0;31m---------------------------------------------------------------------------\u001b[0m",
            "\u001b[0;31mNameError\u001b[0m                                 Traceback (most recent call last)",
            "\u001b[0;32m<ipython-input-19-66821732087f>\u001b[0m in \u001b[0;36m<cell line: 0>\u001b[0;34m()\u001b[0m\n\u001b[0;32m----> 1\u001b[0;31m \u001b[0mstring1\u001b[0m\u001b[0;34m[\u001b[0m\u001b[0;36m2\u001b[0m\u001b[0;34m]\u001b[0m \u001b[0;34m=\u001b[0m \u001b[0mh\u001b[0m\u001b[0;34m\u001b[0m\u001b[0;34m\u001b[0m\u001b[0m\n\u001b[0m",
            "\u001b[0;31mNameError\u001b[0m: name 'h' is not defined"
          ]
        }
      ]
    },
    {
      "cell_type": "code",
      "source": [
        "print(string1[::-1])"
      ],
      "metadata": {
        "colab": {
          "base_uri": "https://localhost:8080/"
        },
        "id": "Oz675XUtfLSx",
        "outputId": "d8b3125e-45f5-4ea9-aef3-ce5c7fec97bd"
      },
      "execution_count": null,
      "outputs": [
        {
          "output_type": "stream",
          "name": "stdout",
          "text": [
            "!dlrow ,olleh\n"
          ]
        }
      ]
    },
    {
      "cell_type": "markdown",
      "source": [
        "inbuilt function for string in python"
      ],
      "metadata": {
        "id": "bO50G6vN-wiN"
      }
    },
    {
      "cell_type": "code",
      "source": [
        "fname = \"Today session is quite fun\"\n",
        "uppercase_string = fname.upper()\n",
        "print(uppercase_string)"
      ],
      "metadata": {
        "id": "G7DYMaCAjbX1",
        "colab": {
          "base_uri": "https://localhost:8080/"
        },
        "outputId": "9a3ff681-4ea7-43eb-c0a5-e3997cb19e9a"
      },
      "execution_count": 1,
      "outputs": [
        {
          "output_type": "stream",
          "name": "stdout",
          "text": [
            "TODAY SESSION IS QUITE FUN\n"
          ]
        }
      ]
    },
    {
      "cell_type": "code",
      "source": [
        "lowercase_string = fname.lower()\n",
        "print(lowercase_string)"
      ],
      "metadata": {
        "colab": {
          "base_uri": "https://localhost:8080/"
        },
        "id": "WjEghW1j__pQ",
        "outputId": "db67f287-ae43-44d9-d008-d6a3fa2f7e6a"
      },
      "execution_count": 2,
      "outputs": [
        {
          "output_type": "stream",
          "name": "stdout",
          "text": [
            "today session is quite fun\n"
          ]
        }
      ]
    },
    {
      "cell_type": "code",
      "source": [
        "capitalcase_string = fname.capitalize()\n",
        "print(capitalcase_string)"
      ],
      "metadata": {
        "colab": {
          "base_uri": "https://localhost:8080/"
        },
        "id": "2VG--vkWAGyJ",
        "outputId": "55ee0624-ef1a-4c30-c702-9374daef9fb2"
      },
      "execution_count": 3,
      "outputs": [
        {
          "output_type": "stream",
          "name": "stdout",
          "text": [
            "Today session is quite fun\n"
          ]
        }
      ]
    },
    {
      "cell_type": "code",
      "source": [
        "titlecase_string = fname.title()\n",
        "print(titlecase_string)"
      ],
      "metadata": {
        "colab": {
          "base_uri": "https://localhost:8080/"
        },
        "id": "lknc5dpyASFF",
        "outputId": "dd8ac17e-44c8-4593-ad39-6b9a4c919bda"
      },
      "execution_count": 4,
      "outputs": [
        {
          "output_type": "stream",
          "name": "stdout",
          "text": [
            "Today Session Is Quite Fun\n"
          ]
        }
      ]
    },
    {
      "cell_type": "code",
      "source": [
        "from re import S\n",
        "str1 = \"hello\"\n",
        "str2 = \"world\"\n",
        "result = str1 + \" \" + str2\n",
        "print(result)"
      ],
      "metadata": {
        "colab": {
          "base_uri": "https://localhost:8080/"
        },
        "id": "c6uEdXA1AdrC",
        "outputId": "68a3f006-6afc-4d3e-e5fa-e4fc6c3c12e5"
      },
      "execution_count": 6,
      "outputs": [
        {
          "output_type": "stream",
          "name": "stdout",
          "text": [
            "hello world\n"
          ]
        }
      ]
    },
    {
      "cell_type": "code",
      "source": [
        "print(str1 * 3)"
      ],
      "metadata": {
        "colab": {
          "base_uri": "https://localhost:8080/"
        },
        "id": "Y-xpe-NEArhx",
        "outputId": "cf43e3bf-0c10-4df8-f024-d521722916b2"
      },
      "execution_count": 7,
      "outputs": [
        {
          "output_type": "stream",
          "name": "stdout",
          "text": [
            "hellohellohello\n"
          ]
        }
      ]
    },
    {
      "cell_type": "code",
      "source": [],
      "metadata": {
        "id": "TNBnkbsdA5LT"
      },
      "execution_count": null,
      "outputs": []
    }
  ]
}