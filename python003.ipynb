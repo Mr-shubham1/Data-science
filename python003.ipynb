{
  "nbformat": 4,
  "nbformat_minor": 0,
  "metadata": {
    "colab": {
      "provenance": [],
      "authorship_tag": "ABX9TyNPqiLF5nkMNSRYmeuNhC3x",
      "include_colab_link": true
    },
    "kernelspec": {
      "name": "python3",
      "display_name": "Python 3"
    },
    "language_info": {
      "name": "python"
    }
  },
  "cells": [
    {
      "cell_type": "markdown",
      "metadata": {
        "id": "view-in-github",
        "colab_type": "text"
      },
      "source": [
        "<a href=\"https://colab.research.google.com/github/Mr-shubham1/Data-science/blob/main/python003.ipynb\" target=\"_parent\"><img src=\"https://colab.research.google.com/assets/colab-badge.svg\" alt=\"Open In Colab\"/></a>"
      ]
    },
    {
      "cell_type": "markdown",
      "source": [
        "string continued"
      ],
      "metadata": {
        "id": "zDPbJzYehERM"
      }
    },
    {
      "cell_type": "markdown",
      "source": [
        "Comparing strings"
      ],
      "metadata": {
        "id": "TQcfD-rHhLXY"
      }
    },
    {
      "cell_type": "code",
      "execution_count": 1,
      "metadata": {
        "colab": {
          "base_uri": "https://localhost:8080/"
        },
        "id": "DUvaA1dfXShi",
        "outputId": "c9a51d64-40f8-41d0-cdd8-1f13c8162718"
      },
      "outputs": [
        {
          "output_type": "stream",
          "name": "stdout",
          "text": [
            "False\n",
            "True\n",
            "True\n",
            "False\n",
            "True\n",
            "False\n"
          ]
        }
      ],
      "source": [
        "str1 = \"apple\"\n",
        "str2 = \"banana\"\n",
        "\n",
        "print(str1 == str2)\n",
        "print(str1 != str2)\n",
        "print(str1 < str2)\n",
        "print(str1 > str2)\n",
        "print(str1 <= str2)\n",
        "print(str1 >= str2)\n"
      ]
    },
    {
      "cell_type": "code",
      "source": [
        "ord('a')"
      ],
      "metadata": {
        "colab": {
          "base_uri": "https://localhost:8080/"
        },
        "id": "jNeBLHE8hkNg",
        "outputId": "8327afb5-6fc1-4880-80d8-453b062d3fe2"
      },
      "execution_count": 2,
      "outputs": [
        {
          "output_type": "execute_result",
          "data": {
            "text/plain": [
              "97"
            ]
          },
          "metadata": {},
          "execution_count": 2
        }
      ]
    },
    {
      "cell_type": "code",
      "source": [
        "\"cat\" < \"catalog\""
      ],
      "metadata": {
        "colab": {
          "base_uri": "https://localhost:8080/"
        },
        "id": "mzDCJzzhhp5u",
        "outputId": "e2a324f2-7183-44c9-8c25-a2e486f51e36"
      },
      "execution_count": 3,
      "outputs": [
        {
          "output_type": "execute_result",
          "data": {
            "text/plain": [
              "True"
            ]
          },
          "metadata": {},
          "execution_count": 3
        }
      ]
    },
    {
      "cell_type": "code",
      "source": [
        "\"Zebra\" < \"apple\""
      ],
      "metadata": {
        "colab": {
          "base_uri": "https://localhost:8080/"
        },
        "id": "NlRm5zXEht9s",
        "outputId": "a3f6a75a-a6d9-428d-b483-686c65592465"
      },
      "execution_count": 4,
      "outputs": [
        {
          "output_type": "execute_result",
          "data": {
            "text/plain": [
              "True"
            ]
          },
          "metadata": {},
          "execution_count": 4
        }
      ]
    },
    {
      "cell_type": "code",
      "source": [
        "ord('Z')"
      ],
      "metadata": {
        "colab": {
          "base_uri": "https://localhost:8080/"
        },
        "id": "zfFKr9HAhyuL",
        "outputId": "aeec040d-22af-4c7f-afba-48e4abe809f9"
      },
      "execution_count": 5,
      "outputs": [
        {
          "output_type": "execute_result",
          "data": {
            "text/plain": [
              "90"
            ]
          },
          "metadata": {},
          "execution_count": 5
        }
      ]
    },
    {
      "cell_type": "markdown",
      "source": [
        "Replace"
      ],
      "metadata": {
        "id": "Zo4H5Pzlh3Yr"
      }
    },
    {
      "cell_type": "code",
      "source": [
        "original_string = \"hello, world!\"\n",
        "\n",
        "new_string = original_string.replace(\"world\",\"python\")"
      ],
      "metadata": {
        "id": "CSaRDFo9hz70"
      },
      "execution_count": 6,
      "outputs": []
    },
    {
      "cell_type": "code",
      "source": [
        "print(original_string)\n",
        "print(new_string)"
      ],
      "metadata": {
        "colab": {
          "base_uri": "https://localhost:8080/"
        },
        "id": "oOzndDnnidPW",
        "outputId": "9a166b19-a6a4-4e33-ebea-017c26919bde"
      },
      "execution_count": 8,
      "outputs": [
        {
          "output_type": "stream",
          "name": "stdout",
          "text": [
            "hello, world!\n",
            "hello, python!\n"
          ]
        }
      ]
    },
    {
      "cell_type": "markdown",
      "source": [
        "Split()"
      ],
      "metadata": {
        "id": "fCFAwWWokh4f"
      }
    },
    {
      "cell_type": "code",
      "source": [
        "sentence = \"this is very interesting session\"\n",
        "words = sentence.split()    # by default split on the basis of space\n",
        "print(words)"
      ],
      "metadata": {
        "colab": {
          "base_uri": "https://localhost:8080/"
        },
        "id": "mz4-gZjYif02",
        "outputId": "364463d0-d30b-4563-fd0b-2e42631c25e6"
      },
      "execution_count": 10,
      "outputs": [
        {
          "output_type": "stream",
          "name": "stdout",
          "text": [
            "['this', 'is', 'very', 'interesting', 'session']\n"
          ]
        }
      ]
    },
    {
      "cell_type": "code",
      "source": [
        "names = \"Rohit, monica, shyam, rashmi, priya, vidushi, aranya\"\n",
        "names_list = names.split(',')\n",
        "print(names_list)"
      ],
      "metadata": {
        "colab": {
          "base_uri": "https://localhost:8080/"
        },
        "id": "ZmN9HxLpk1pK",
        "outputId": "bc6d0768-226e-460a-ea1b-abdd515c5ac6"
      },
      "execution_count": 12,
      "outputs": [
        {
          "output_type": "stream",
          "name": "stdout",
          "text": [
            "['Rohit', ' monica', ' shyam', ' rashmi', ' priya', ' vidushi', ' aranya']\n"
          ]
        }
      ]
    },
    {
      "cell_type": "markdown",
      "source": [
        "Formatting of string"
      ],
      "metadata": {
        "id": "bXuR2RmblgZt"
      }
    },
    {
      "cell_type": "code",
      "source": [
        "age = 30\n",
        "text = \"my age is \" + age + \"years old\"\n",
        "print(text)"
      ],
      "metadata": {
        "colab": {
          "base_uri": "https://localhost:8080/",
          "height": 176
        },
        "id": "gLH5UWTblJVM",
        "outputId": "82c16a1a-15c1-426b-dd10-e173f6e3ed05"
      },
      "execution_count": 13,
      "outputs": [
        {
          "output_type": "error",
          "ename": "TypeError",
          "evalue": "can only concatenate str (not \"int\") to str",
          "traceback": [
            "\u001b[0;31m---------------------------------------------------------------------------\u001b[0m",
            "\u001b[0;31mTypeError\u001b[0m                                 Traceback (most recent call last)",
            "\u001b[0;32m<ipython-input-13-03abf9488a90>\u001b[0m in \u001b[0;36m<cell line: 0>\u001b[0;34m()\u001b[0m\n\u001b[1;32m      1\u001b[0m \u001b[0mage\u001b[0m \u001b[0;34m=\u001b[0m \u001b[0;36m30\u001b[0m\u001b[0;34m\u001b[0m\u001b[0;34m\u001b[0m\u001b[0m\n\u001b[0;32m----> 2\u001b[0;31m \u001b[0mtext\u001b[0m \u001b[0;34m=\u001b[0m \u001b[0;34m\"my age is \"\u001b[0m \u001b[0;34m+\u001b[0m \u001b[0mage\u001b[0m \u001b[0;34m+\u001b[0m \u001b[0;34m\"years old\"\u001b[0m\u001b[0;34m\u001b[0m\u001b[0;34m\u001b[0m\u001b[0m\n\u001b[0m\u001b[1;32m      3\u001b[0m \u001b[0mprint\u001b[0m\u001b[0;34m(\u001b[0m\u001b[0mtext\u001b[0m\u001b[0;34m)\u001b[0m\u001b[0;34m\u001b[0m\u001b[0;34m\u001b[0m\u001b[0m\n",
            "\u001b[0;31mTypeError\u001b[0m: can only concatenate str (not \"int\") to str"
          ]
        }
      ]
    },
    {
      "cell_type": "code",
      "source": [
        "age = 30\n",
        "text = f\"my age is {age} years old\"\n",
        "print(text)"
      ],
      "metadata": {
        "colab": {
          "base_uri": "https://localhost:8080/"
        },
        "id": "YiUIn5pWmXCH",
        "outputId": "d68b3f05-b970-406d-b44e-67baeac5fd70"
      },
      "execution_count": 14,
      "outputs": [
        {
          "output_type": "stream",
          "name": "stdout",
          "text": [
            "my age is 30 years old\n"
          ]
        }
      ]
    },
    {
      "cell_type": "markdown",
      "source": [
        "strip -> removes any whitespaces from beginning and from end"
      ],
      "metadata": {
        "id": "iwwKlEf7m74T"
      }
    },
    {
      "cell_type": "code",
      "source": [
        "text = \"      hello, world!   \"\n",
        "print(text.strip())"
      ],
      "metadata": {
        "colab": {
          "base_uri": "https://localhost:8080/"
        },
        "id": "OZqgC1RomgbU",
        "outputId": "5222217c-182e-4831-9a17-bf7e382d7880"
      },
      "execution_count": 15,
      "outputs": [
        {
          "output_type": "stream",
          "name": "stdout",
          "text": [
            "hello, world!\n"
          ]
        }
      ]
    },
    {
      "cell_type": "markdown",
      "source": [
        "Index -> retruns value error if substring is not present in main string"
      ],
      "metadata": {
        "id": "UGzdTXu2oBlr"
      }
    },
    {
      "cell_type": "code",
      "source": [
        "string = \"hello, world!\"\n",
        "indx = string.index(\"world\")\n",
        "print(indx)"
      ],
      "metadata": {
        "colab": {
          "base_uri": "https://localhost:8080/"
        },
        "id": "yvULD3zRnJSR",
        "outputId": "e5a8e51e-a5b9-4071-c317-67a14fd0df51"
      },
      "execution_count": 17,
      "outputs": [
        {
          "output_type": "stream",
          "name": "stdout",
          "text": [
            "7\n"
          ]
        }
      ]
    },
    {
      "cell_type": "code",
      "source": [
        "indx2 = string.index(\"worlt\")\n",
        "print(indx2)"
      ],
      "metadata": {
        "colab": {
          "base_uri": "https://localhost:8080/",
          "height": 158
        },
        "id": "vU3wBIf1oQn-",
        "outputId": "871a9302-3764-4c0c-f5d7-384ac0d4f7bd"
      },
      "execution_count": 18,
      "outputs": [
        {
          "output_type": "error",
          "ename": "ValueError",
          "evalue": "substring not found",
          "traceback": [
            "\u001b[0;31m---------------------------------------------------------------------------\u001b[0m",
            "\u001b[0;31mValueError\u001b[0m                                Traceback (most recent call last)",
            "\u001b[0;32m<ipython-input-18-3e8856e573f2>\u001b[0m in \u001b[0;36m<cell line: 0>\u001b[0;34m()\u001b[0m\n\u001b[0;32m----> 1\u001b[0;31m \u001b[0mindx2\u001b[0m \u001b[0;34m=\u001b[0m \u001b[0mstring\u001b[0m\u001b[0;34m.\u001b[0m\u001b[0mindex\u001b[0m\u001b[0;34m(\u001b[0m\u001b[0;34m\"worlt\"\u001b[0m\u001b[0;34m)\u001b[0m\u001b[0;34m\u001b[0m\u001b[0;34m\u001b[0m\u001b[0m\n\u001b[0m\u001b[1;32m      2\u001b[0m \u001b[0mprint\u001b[0m\u001b[0;34m(\u001b[0m\u001b[0mindx2\u001b[0m\u001b[0;34m)\u001b[0m\u001b[0;34m\u001b[0m\u001b[0;34m\u001b[0m\u001b[0m\n",
            "\u001b[0;31mValueError\u001b[0m: substring not found"
          ]
        }
      ]
    },
    {
      "cell_type": "markdown",
      "source": [
        "find function -> returns -1 if substring is not present in main string"
      ],
      "metadata": {
        "id": "ykV2C0nQoke-"
      }
    },
    {
      "cell_type": "markdown",
      "source": [
        "index function aur find function mein difference bata do"
      ],
      "metadata": {
        "id": "rG4IYpRqomoj"
      }
    },
    {
      "cell_type": "code",
      "source": [
        "string = \"hello, world!\"\n",
        "indx = string.find(\"world\")\n",
        "print(indx)"
      ],
      "metadata": {
        "colab": {
          "base_uri": "https://localhost:8080/"
        },
        "id": "W-bq3_u2oec7",
        "outputId": "81f85c1c-9583-40eb-d1a1-417de3f48308"
      },
      "execution_count": 19,
      "outputs": [
        {
          "output_type": "stream",
          "name": "stdout",
          "text": [
            "7\n"
          ]
        }
      ]
    },
    {
      "cell_type": "code",
      "source": [
        "indx2 = string.find(\"worlt\")\n",
        "print(indx2)"
      ],
      "metadata": {
        "colab": {
          "base_uri": "https://localhost:8080/"
        },
        "id": "eOlhHa1ss7F1",
        "outputId": "9dbc3dc5-a661-41da-ca67-177599631a06"
      },
      "execution_count": 20,
      "outputs": [
        {
          "output_type": "stream",
          "name": "stdout",
          "text": [
            "-1\n"
          ]
        }
      ]
    },
    {
      "cell_type": "code",
      "source": [
        "sentence = \" this is a sample sentence\"\n",
        "count = sentence.count(\"is\")\n",
        "print(count)"
      ],
      "metadata": {
        "colab": {
          "base_uri": "https://localhost:8080/"
        },
        "id": "wAHfSiTds_lP",
        "outputId": "572ae713-0fdc-46e0-d0f5-50c0cecbf3db"
      },
      "execution_count": 21,
      "outputs": [
        {
          "output_type": "stream",
          "name": "stdout",
          "text": [
            "2\n"
          ]
        }
      ]
    },
    {
      "cell_type": "code",
      "source": [
        "text1 = \"hello\"\n",
        "text2 = \"hello123\"\n",
        "text1.isalpha()"
      ],
      "metadata": {
        "colab": {
          "base_uri": "https://localhost:8080/"
        },
        "id": "6uXDQOHbv44x",
        "outputId": "c1d9dfd8-54c6-45e5-9b5c-0cf24422ba83"
      },
      "execution_count": 22,
      "outputs": [
        {
          "output_type": "execute_result",
          "data": {
            "text/plain": [
              "True"
            ]
          },
          "metadata": {},
          "execution_count": 22
        }
      ]
    },
    {
      "cell_type": "code",
      "source": [
        "text2.isalpha()"
      ],
      "metadata": {
        "colab": {
          "base_uri": "https://localhost:8080/"
        },
        "id": "ExE4KKKTwCk8",
        "outputId": "8f20aef7-b947-4685-f807-aba5745fb583"
      },
      "execution_count": 23,
      "outputs": [
        {
          "output_type": "execute_result",
          "data": {
            "text/plain": [
              "False"
            ]
          },
          "metadata": {},
          "execution_count": 23
        }
      ]
    },
    {
      "cell_type": "code",
      "source": [],
      "metadata": {
        "id": "5kwox5cEwEtW"
      },
      "execution_count": null,
      "outputs": []
    }
  ]
}