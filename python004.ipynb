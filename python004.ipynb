{
  "nbformat": 4,
  "nbformat_minor": 0,
  "metadata": {
    "colab": {
      "provenance": [],
      "authorship_tag": "ABX9TyNU77BfGCfyMbymI81KMIks",
      "include_colab_link": true
    },
    "kernelspec": {
      "name": "python3",
      "display_name": "Python 3"
    },
    "language_info": {
      "name": "python"
    }
  },
  "cells": [
    {
      "cell_type": "markdown",
      "metadata": {
        "id": "view-in-github",
        "colab_type": "text"
      },
      "source": [
        "<a href=\"https://colab.research.google.com/github/Mr-shubham1/Data-science/blob/main/python004.ipynb\" target=\"_parent\"><img src=\"https://colab.research.google.com/assets/colab-badge.svg\" alt=\"Open In Colab\"/></a>"
      ]
    },
    {
      "cell_type": "markdown",
      "source": [
        "Data structures in python"
      ],
      "metadata": {
        "id": "iy8APlUyxffh"
      }
    },
    {
      "cell_type": "markdown",
      "source": [
        "List"
      ],
      "metadata": {
        "id": "xFedoW-FNUAw"
      }
    },
    {
      "cell_type": "code",
      "source": [
        "my_list = [10,25,5,60,15,True,False]\n",
        "\n",
        "max_element = max(my_list)\n",
        "min_element = min(my_list)\n",
        "elements_sum = sum(my_list)\n",
        "print(max_element)\n",
        "print(min_element)\n",
        "print(elements_sum)"
      ],
      "metadata": {
        "colab": {
          "base_uri": "https://localhost:8080/"
        },
        "id": "Me5LoZg7xZ6N",
        "outputId": "422e546a-e1ef-4b39-8e9f-f0b022ed4fed"
      },
      "execution_count": 1,
      "outputs": [
        {
          "output_type": "stream",
          "name": "stdout",
          "text": [
            "60\n",
            "False\n",
            "116\n"
          ]
        }
      ]
    },
    {
      "cell_type": "code",
      "source": [
        "strings = [\"abc\",\"abd\",\"abe\"]\n",
        "min_string = min(strings)\n",
        "max_string = max(strings)\n",
        "print(min_string)\n",
        "print(max_string)"
      ],
      "metadata": {
        "colab": {
          "base_uri": "https://localhost:8080/"
        },
        "id": "EnPNtfmVN2h5",
        "outputId": "51548299-97d6-4600-9fff-79abc8b2afae"
      },
      "execution_count": 4,
      "outputs": [
        {
          "output_type": "stream",
          "name": "stdout",
          "text": [
            "abc\n",
            "abe\n"
          ]
        }
      ]
    },
    {
      "cell_type": "code",
      "source": [
        "my_list[3] = 65\n",
        "print(my_list)"
      ],
      "metadata": {
        "colab": {
          "base_uri": "https://localhost:8080/"
        },
        "id": "r5ktB9FROODS",
        "outputId": "3c73a76c-f0f7-4f98-fcf1-7789e8f1fe92"
      },
      "execution_count": 5,
      "outputs": [
        {
          "output_type": "stream",
          "name": "stdout",
          "text": [
            "[10, 25, 5, 65, 15, True, False]\n"
          ]
        }
      ]
    },
    {
      "cell_type": "code",
      "source": [
        "print(my_list * 3)"
      ],
      "metadata": {
        "colab": {
          "base_uri": "https://localhost:8080/"
        },
        "id": "Z5tUYLxcP5o5",
        "outputId": "144667e9-8202-4e52-8162-f148aa877bd0"
      },
      "execution_count": 6,
      "outputs": [
        {
          "output_type": "stream",
          "name": "stdout",
          "text": [
            "[10, 25, 5, 65, 15, True, False, 10, 25, 5, 65, 15, True, False, 10, 25, 5, 65, 15, True, False]\n"
          ]
        }
      ]
    },
    {
      "cell_type": "markdown",
      "source": [
        "Inbuilt functions of list"
      ],
      "metadata": {
        "id": "dW0sjnQgP-oY"
      }
    },
    {
      "cell_type": "code",
      "source": [
        "my_list"
      ],
      "metadata": {
        "colab": {
          "base_uri": "https://localhost:8080/"
        },
        "id": "na20mycXP9S-",
        "outputId": "2d54d426-e9e5-427a-9986-61e8385bdf19"
      },
      "execution_count": 8,
      "outputs": [
        {
          "output_type": "execute_result",
          "data": {
            "text/plain": [
              "[10, 25, 5, 65, 15, True, False]"
            ]
          },
          "metadata": {},
          "execution_count": 8
        }
      ]
    },
    {
      "cell_type": "markdown",
      "source": [
        "append()"
      ],
      "metadata": {
        "id": "G1IosPHaSsLJ"
      }
    },
    {
      "cell_type": "code",
      "source": [
        "my_list.append(20)\n",
        "my_list"
      ],
      "metadata": {
        "colab": {
          "base_uri": "https://localhost:8080/"
        },
        "id": "NcwnZ-mJREuP",
        "outputId": "d272a4c8-2df0-4b6d-f8ae-beea63bedd09"
      },
      "execution_count": 9,
      "outputs": [
        {
          "output_type": "execute_result",
          "data": {
            "text/plain": [
              "[10, 25, 5, 65, 15, True, False, 20]"
            ]
          },
          "metadata": {},
          "execution_count": 9
        }
      ]
    },
    {
      "cell_type": "markdown",
      "source": [
        "extend()"
      ],
      "metadata": {
        "id": "tqtrecDlSvLk"
      }
    },
    {
      "cell_type": "code",
      "source": [
        "l1 = [1,2,3,4,5,6]\n",
        "l2 = [7,8,9]\n",
        "l1.extend(l2)\n",
        "print(l1)\n",
        "print(l2)"
      ],
      "metadata": {
        "colab": {
          "base_uri": "https://localhost:8080/"
        },
        "id": "iOWWajx3RKYg",
        "outputId": "befb1dcc-463a-4e6f-b431-24c1d3bfa143"
      },
      "execution_count": 10,
      "outputs": [
        {
          "output_type": "stream",
          "name": "stdout",
          "text": [
            "[1, 2, 3, 4, 5, 6, 7, 8, 9]\n",
            "[7, 8, 9]\n"
          ]
        }
      ]
    },
    {
      "cell_type": "code",
      "source": [
        "l1.append(l2)\n",
        "l1"
      ],
      "metadata": {
        "colab": {
          "base_uri": "https://localhost:8080/"
        },
        "id": "J8uQsUaKRb9p",
        "outputId": "09c78139-9b78-4899-e5f4-648c2bf8921c"
      },
      "execution_count": 11,
      "outputs": [
        {
          "output_type": "execute_result",
          "data": {
            "text/plain": [
              "[1, 2, 3, 4, 5, 6, 7, 8, 9, [7, 8, 9]]"
            ]
          },
          "metadata": {},
          "execution_count": 11
        }
      ]
    },
    {
      "cell_type": "markdown",
      "source": [
        "list.append takes exactly one argument"
      ],
      "metadata": {
        "id": "vxKiog-qSJx-"
      }
    },
    {
      "cell_type": "code",
      "source": [
        "l1.append(6,7,8,9)\n",
        "l1"
      ],
      "metadata": {
        "colab": {
          "base_uri": "https://localhost:8080/",
          "height": 158
        },
        "id": "8CaVFL09R4TL",
        "outputId": "480f3c6a-61aa-4ffc-e1b6-48f7da0c073d"
      },
      "execution_count": 12,
      "outputs": [
        {
          "output_type": "error",
          "ename": "TypeError",
          "evalue": "list.append() takes exactly one argument (4 given)",
          "traceback": [
            "\u001b[0;31m---------------------------------------------------------------------------\u001b[0m",
            "\u001b[0;31mTypeError\u001b[0m                                 Traceback (most recent call last)",
            "\u001b[0;32m<ipython-input-12-8751283d6e84>\u001b[0m in \u001b[0;36m<cell line: 0>\u001b[0;34m()\u001b[0m\n\u001b[0;32m----> 1\u001b[0;31m \u001b[0ml1\u001b[0m\u001b[0;34m.\u001b[0m\u001b[0mappend\u001b[0m\u001b[0;34m(\u001b[0m\u001b[0;36m6\u001b[0m\u001b[0;34m,\u001b[0m\u001b[0;36m7\u001b[0m\u001b[0;34m,\u001b[0m\u001b[0;36m8\u001b[0m\u001b[0;34m,\u001b[0m\u001b[0;36m9\u001b[0m\u001b[0;34m)\u001b[0m\u001b[0;34m\u001b[0m\u001b[0;34m\u001b[0m\u001b[0m\n\u001b[0m\u001b[1;32m      2\u001b[0m \u001b[0ml1\u001b[0m\u001b[0;34m\u001b[0m\u001b[0;34m\u001b[0m\u001b[0m\n",
            "\u001b[0;31mTypeError\u001b[0m: list.append() takes exactly one argument (4 given)"
          ]
        }
      ]
    },
    {
      "cell_type": "markdown",
      "source": [
        "insert() takes two parameter , first index value , second data"
      ],
      "metadata": {
        "id": "j6eIwfx8Sy9u"
      }
    },
    {
      "cell_type": "markdown",
      "source": [
        "+ operator"
      ],
      "metadata": {
        "id": "dYRCKrzmXG_i"
      }
    },
    {
      "cell_type": "code",
      "source": [
        "list1 = [\"apple\",\"banana\"]\n",
        "list2 = [\"cherry\",\"date\"]\n",
        "new_list = list1 + list2\n",
        "print(new_list)"
      ],
      "metadata": {
        "colab": {
          "base_uri": "https://localhost:8080/"
        },
        "id": "Gp3Y7TijSIoM",
        "outputId": "e6c4f4ec-b148-4079-f987-168955b41072"
      },
      "execution_count": 13,
      "outputs": [
        {
          "output_type": "stream",
          "name": "stdout",
          "text": [
            "['apple', 'banana', 'cherry', 'date']\n"
          ]
        }
      ]
    },
    {
      "cell_type": "code",
      "source": [
        "\n"
      ],
      "metadata": {
        "id": "W7Aa81o0XUMZ"
      },
      "execution_count": null,
      "outputs": []
    }
  ]
}